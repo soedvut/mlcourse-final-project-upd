{
 "cells": [
  {
   "attachments": {},
   "cell_type": "markdown",
   "metadata": {},
   "source": [
    "# Это шаблон ноута для теста методов кластеризации"
   ]
  },
  {
   "attachments": {},
   "cell_type": "markdown",
   "metadata": {},
   "source": [
    "## imports"
   ]
  },
  {
   "cell_type": "code",
   "execution_count": 1,
   "metadata": {},
   "outputs": [],
   "source": [
    "import numpy as np\n",
    "import pandas as pd\n",
    "import os\n",
    "from sklearn.model_selection import train_test_split, GridSearchCV\n",
    "from sklearn.metrics import adjusted_mutual_info_score, adjusted_rand_score"
   ]
  },
  {
   "attachments": {},
   "cell_type": "markdown",
   "metadata": {},
   "source": [
    "## reading data files"
   ]
  },
  {
   "cell_type": "code",
   "execution_count": 2,
   "metadata": {},
   "outputs": [],
   "source": [
    "# YOUR DATA DIRECTORY HERE\n",
    "data_dir = '/media/arrteom/3923b309-fef1-47f0-a74c-cd259de5b45b/PAMAP2_Dataset/PAMAP2_Dataset/' \n",
    "data_path = os.path.join(data_dir, 'pamap_small.csv')"
   ]
  },
  {
   "cell_type": "code",
   "execution_count": 3,
   "metadata": {},
   "outputs": [
    {
     "data": {
      "text/plain": [
       "(248827, 41)"
      ]
     },
     "execution_count": 3,
     "metadata": {},
     "output_type": "execute_result"
    }
   ],
   "source": [
    "df_init = pd.read_csv(data_path)\n",
    "df_init.shape"
   ]
  },
  {
   "cell_type": "code",
   "execution_count": 4,
   "metadata": {},
   "outputs": [
    {
     "name": "stdout",
     "output_type": "stream",
     "text": [
      "full df shape (248827, 41)\n",
      "df_train.shape = (174178, 41), df_test.shape = (74649, 41)\n"
     ]
    }
   ],
   "source": [
    "df_init = pd.read_csv(data_path)\n",
    "print(f'full df shape {df_init.shape}')\n",
    "df_train, df_test = train_test_split(df_init, test_size=0.3, random_state=42) # do not change\n",
    "del df_init\n",
    "print(f'{df_train.shape = }, {df_test.shape = }')"
   ]
  },
  {
   "attachments": {},
   "cell_type": "markdown",
   "metadata": {},
   "source": [
    "## preprocessing\n",
    "тут стоит в общих чертах написать про то почему такой препроцессинг"
   ]
  },
  {
   "cell_type": "code",
   "execution_count": 5,
   "metadata": {},
   "outputs": [],
   "source": [
    "# add some real preprocessing logic instead of that\n",
    "import seaborn as sns\n",
    "import numpy as np\n",
    "\n",
    "\n",
    "\n",
    "\n",
    "from sklearn.preprocessing import StandardScaler\n",
    "from sklearn.impute import SimpleImputer\n",
    "from sklearn.pipeline import make_pipeline\n",
    "\n",
    "pipe = make_pipeline(SimpleImputer(strategy='mean'), StandardScaler())\n",
    "X_train = (df_train.drop(columns='activityID'))\n",
    "y_train = df_train['activityID']\n",
    "pipe.fit(X_train)  # Выполнение преобразований на основе обучающего набора данных\n",
    "\n",
    "X_train_transformed = pipe.transform(X_train)  # Применение преобразований к обучающему набору данных\n",
    "X_train_transformed = pipe.fit_transform(X_train)  # Оценка параметров и применение преобразования к обучающему набору данных\n",
    "#X_test_transformed = pipe.transform(X_test)  # Применение преобразований к тестовому набору данных\n"
   ]
  },
  {
   "cell_type": "code",
   "execution_count": 6,
   "metadata": {},
   "outputs": [],
   "source": [
    "##X_train = prep_pipeline.fit_transform(df_train.drop(columns='activityID'))\n",
    "#y_train = df_train['activityID']\n",
    "\n",
    "# Преобразование массива NumPy в объект DataFrame\n",
    "df_train = pd.DataFrame(X_train_transformed)\n",
    "\n",
    "# Вычисление матрицы корреляции\n",
    "df_corr = df_train.corr()\n",
    "\n",
    "plt.figure(figsize=(10,10))\n",
    "sns.heatmap(df_corr.isna().transpose(),\n",
    "            cmap=\"YlGnBu\",\n",
    "            cbar_kws={'label': 'Missing Data'})\n",
    "plt.savefig(\"visualizing_missing_data_with_heatmap_Seaborn_Python.png\", dpi=100)"
   ]
  },
  {
   "attachments": {},
   "cell_type": "markdown",
   "metadata": {},
   "source": [
    "## cross validation param selection\n",
    "тут немного про то в каких границах подбирали какие параметры и почему"
   ]
  },
  {
   "cell_type": "code",
   "execution_count": 45,
   "metadata": {},
   "outputs": [],
   "source": [
    "from sklearn.cluster import KMeans\n",
    "\n",
    "\n",
    "param_grid = {\n",
    "    'n_clusters': [2, 3],  # тут нужно осмысленно выборать параметры\n",
    "    'n_init': [5, 10]\n",
    "}\n",
    "grid_search = GridSearchCV(KMeans(), param_grid, cv=5, scoring='adjusted_mutual_info_score')"
   ]
  },
  {
   "cell_type": "code",
   "execution_count": 46,
   "metadata": {},
   "outputs": [
    {
     "name": "stdout",
     "output_type": "stream",
     "text": [
      "0.22858227084479643\n"
     ]
    }
   ],
   "source": [
    "grid_search.fit(X_train, y_train)\n",
    "print(grid_search.best_score_)"
   ]
  },
  {
   "attachments": {},
   "cell_type": "markdown",
   "metadata": {},
   "source": [
    "## model train"
   ]
  },
  {
   "cell_type": "code",
   "execution_count": 47,
   "metadata": {},
   "outputs": [],
   "source": [
    "full_model = KMeans(**grid_search.best_params_).fit(X_train, y_train)"
   ]
  },
  {
   "attachments": {},
   "cell_type": "markdown",
   "metadata": {},
   "source": [
    "## metrics"
   ]
  },
  {
   "cell_type": "code",
   "execution_count": 48,
   "metadata": {},
   "outputs": [],
   "source": [
    "X_test = prep_pipeline.transform(df_test.drop(columns='activityID'))\n",
    "y_test = df_test['activityID']\n",
    "preds = full_model.predict(X_test)"
   ]
  },
  {
   "cell_type": "code",
   "execution_count": 49,
   "metadata": {},
   "outputs": [
    {
     "name": "stdout",
     "output_type": "stream",
     "text": [
      "test_ari = 0.0939, test_armi = 0.2289, train_armi = 0.2285\n"
     ]
    }
   ],
   "source": [
    "train_armi = adjusted_mutual_info_score(y_train, full_model.predict(X_train))\n",
    "test_ari = adjusted_rand_score(y_test, preds)\n",
    "test_armi = adjusted_mutual_info_score(y_test, preds)\n",
    "\n",
    "print(f'{test_ari = :.4f}, {test_armi = :.4f}, {train_armi = :.4f}')"
   ]
  },
  {
   "attachments": {},
   "cell_type": "markdown",
   "metadata": {},
   "source": [
    "## clusters visualized"
   ]
  },
  {
   "cell_type": "code",
   "execution_count": 40,
   "metadata": {},
   "outputs": [],
   "source": [
    "# TODO"
   ]
  }
 ],
 "metadata": {
  "kernelspec": {
   "display_name": ".venv",
   "language": "python",
   "name": "python3"
  },
  "language_info": {
   "codemirror_mode": {
    "name": "ipython",
    "version": 3
   },
   "file_extension": ".py",
   "mimetype": "text/x-python",
   "name": "python",
   "nbconvert_exporter": "python",
   "pygments_lexer": "ipython3",
   "version": "3.10.6"
  },
  "orig_nbformat": 4,
  "vscode": {
   "interpreter": {
    "hash": "3fa9378f9a1d8a3d2283e7e4bd652ac0b3a01e88871b32648bdc45c15fe76112"
   }
  }
 },
 "nbformat": 4,
 "nbformat_minor": 2
}
